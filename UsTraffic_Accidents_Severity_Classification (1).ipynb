{
  "nbformat": 4,
  "nbformat_minor": 0,
  "metadata": {
    "colab": {
      "name": "UsTraffic_Accidents_Severity_Classification.ipynb",
      "provenance": [],
      "collapsed_sections": []
    },
    "kernelspec": {
      "name": "python3",
      "display_name": "Python 3"
    }
  },
  "cells": [
    {
      "cell_type": "markdown",
      "metadata": {
        "id": "uJkVrWUwMuAu",
        "colab_type": "text"
      },
      "source": [
        "**US Traffic Accidents Severity Classification**"
      ]
    },
    {
      "cell_type": "markdown",
      "metadata": {
        "id": "-8ZzHOVxNBnF",
        "colab_type": "text"
      },
      "source": [
        "1) Import All libraries"
      ]
    },
    {
      "cell_type": "code",
      "metadata": {
        "id": "ycVEEIoVLhB1",
        "colab_type": "code",
        "colab": {}
      },
      "source": [
        "import pandas as pd\n",
        "import numpy as np\n",
        "import seaborn as sns\n",
        "import matplotlib.pyplot as plt\n",
        "%matplotlib inline\n",
        "from sklearn.linear_model import LogisticRegression\n",
        "from sklearn.svm import SVC, LinearSVC\n",
        "from sklearn.ensemble import RandomForestClassifier\n",
        "from sklearn.neighbors import KNeighborsClassifier\n",
        "from sklearn.naive_bayes import GaussianNB\n",
        "from sklearn.linear_model import Perceptron, SGDClassifier\n",
        "from sklearn.tree import DecisionTreeClassifier\n",
        "from sklearn import datasets, linear_model\n",
        "from sklearn.model_selection import train_test_split\n",
        "from matplotlib import pyplot as plt"
      ],
      "execution_count": 0,
      "outputs": []
    },
    {
      "cell_type": "markdown",
      "metadata": {
        "id": "Hq4vlq3-NGbd",
        "colab_type": "text"
      },
      "source": [
        "2) Load Original Data"
      ]
    },
    {
      "cell_type": "code",
      "metadata": {
        "id": "-917Hr4XJzgR",
        "colab_type": "code",
        "colab": {}
      },
      "source": [
        "DfUSAccidents = pd.read_csv('US_Accidents_Dec19.csv')"
      ],
      "execution_count": 0,
      "outputs": []
    },
    {
      "cell_type": "markdown",
      "metadata": {
        "id": "gHm1nXTeNWTN",
        "colab_type": "text"
      },
      "source": [
        "3) Drop unnecessary columns. Feature generation and analysis stage\n",
        "First I don't need some of these features, also, some of these appear to be more trouble than they're worth"
      ]
    },
    {
      "cell_type": "code",
      "metadata": {
        "id": "98bkZpeBRjHw",
        "colab_type": "code",
        "colab": {}
      },
      "source": [
        "DfUSAccidents = DfUSAccidents.drop(columns=['TMC','Source','Number','Country'])"
      ],
      "execution_count": 0,
      "outputs": []
    },
    {
      "cell_type": "code",
      "metadata": {
        "id": "F9_UOD37TNJQ",
        "colab_type": "code",
        "colab": {}
      },
      "source": [
        "DfUSAccidents = DfUSAccidents.drop(columns=['End_Lat','End_Lng'])"
      ],
      "execution_count": 0,
      "outputs": []
    },
    {
      "cell_type": "markdown",
      "metadata": {
        "id": "5L5QMINtOUoo",
        "colab_type": "text"
      },
      "source": [
        "Now, we come to Date-Time. This just needs to be broken apart and put back together in a more useful form (integer)"
      ]
    },
    {
      "cell_type": "code",
      "metadata": {
        "id": "3oQG4dMNTrvq",
        "colab_type": "code",
        "colab": {}
      },
      "source": [
        "DfUSAccidentsTime = DfUSAccidents.Start_Time.str.split(\"-\",expand=True)"
      ],
      "execution_count": 0,
      "outputs": []
    },
    {
      "cell_type": "code",
      "metadata": {
        "id": "QkOdn3bCV9Sg",
        "colab_type": "code",
        "colab": {}
      },
      "source": [
        "DfUSAccidentsTime.rename(columns={0: 'Year', 1: 'Month', 2: 'ToSplit2'}, inplace =True)"
      ],
      "execution_count": 0,
      "outputs": []
    },
    {
      "cell_type": "code",
      "metadata": {
        "id": "CQWYb0j9XPWi",
        "colab_type": "code",
        "colab": {}
      },
      "source": [
        "DfUSAccidentsTime2 = DfUSAccidentsTime.ToSplit2.str.split(expand=True)"
      ],
      "execution_count": 0,
      "outputs": []
    },
    {
      "cell_type": "code",
      "metadata": {
        "id": "cfU7fxsAYPVG",
        "colab_type": "code",
        "colab": {}
      },
      "source": [
        "DfUSAccidentsTime2.rename(columns={0:'Day', 1:'TimetoSplit'}, inplace=True)"
      ],
      "execution_count": 0,
      "outputs": []
    },
    {
      "cell_type": "code",
      "metadata": {
        "id": "XXlPHR72YrBH",
        "colab_type": "code",
        "colab": {}
      },
      "source": [
        "DfUSAccidentsTime3 = DfUSAccidentsTime2.TimetoSplit.str.split(\":\",expand=True)\n",
        "DfUSAccidentsTime3.rename(columns={0:'Hours',1:'Minutes', 2:'Seconds'}, inplace=True)"
      ],
      "execution_count": 0,
      "outputs": []
    },
    {
      "cell_type": "code",
      "metadata": {
        "id": "cGCl1c5Layft",
        "colab_type": "code",
        "colab": {}
      },
      "source": [
        "DfUSAccidentsTime.reset_index()\n",
        "DfUSAccidentsTime2.reset_index()\n",
        "DfUSAccidentsTime3.reset_index()\n",
        "DfUSACombineTimeDate1 = pd.concat([DfUSAccidentsTime,DfUSAccidentsTime2,DfUSAccidentsTime3], axis=1).reindex(DfUSAccidentsTime.index)"
      ],
      "execution_count": 0,
      "outputs": []
    },
    {
      "cell_type": "code",
      "metadata": {
        "id": "Mccx5oaDPITx",
        "colab_type": "code",
        "colab": {}
      },
      "source": [
        "DfUSACombineTimeDate1 = DfUSACombineTimeDate1.drop(columns=['ToSplit2','TimetoSplit'])"
      ],
      "execution_count": 0,
      "outputs": []
    },
    {
      "cell_type": "code",
      "metadata": {
        "id": "LmXlrI8GPl3I",
        "colab_type": "code",
        "colab": {}
      },
      "source": [
        "DfUSACombineTimeDate1.reset_index()\n",
        "DfUSAccidents.reset_index()\n",
        "DfUSACombinedDateTimeAccidents1= pd.concat([DfUSAccidents,DfUSACombineTimeDate1], axis= 1).reindex(DfUSAccidents.index)"
      ],
      "execution_count": 0,
      "outputs": []
    },
    {
      "cell_type": "markdown",
      "metadata": {
        "id": "czgNciaSNoC2",
        "colab_type": "text"
      },
      "source": [
        "Now that we have time and date of the traffic incident pulled from the data, time to take a look at the weather. Weather will need to be made into a numeric variable; this is likely where some of my own bias's may come in. I leveled all Weather_Conditions writen in the data between 1:7 with 1 being a clear day, and 7 being extremely dangerous weather. "
      ]
    },
    {
      "cell_type": "code",
      "metadata": {
        "id": "ldE1EzZuVRp6",
        "colab_type": "code",
        "outputId": "0f7292ac-241a-4dc7-ac61-ba12c5814b2b",
        "colab": {
          "base_uri": "https://localhost:8080/",
          "height": 419
        }
      },
      "source": [
        "DFweatherratings= pd.read_csv('Weather_Conditions2.csv')\n",
        "DFweatherratings.drop(DFweatherratings.columns[0], axis=1,inplace=True)\n",
        "DFweatherratings.dropna()"
      ],
      "execution_count": 0,
      "outputs": [
        {
          "output_type": "execute_result",
          "data": {
            "text/html": [
              "<div>\n",
              "<style scoped>\n",
              "    .dataframe tbody tr th:only-of-type {\n",
              "        vertical-align: middle;\n",
              "    }\n",
              "\n",
              "    .dataframe tbody tr th {\n",
              "        vertical-align: top;\n",
              "    }\n",
              "\n",
              "    .dataframe thead th {\n",
              "        text-align: right;\n",
              "    }\n",
              "</style>\n",
              "<table border=\"1\" class=\"dataframe\">\n",
              "  <thead>\n",
              "    <tr style=\"text-align: right;\">\n",
              "      <th></th>\n",
              "      <th>Weather_Condition</th>\n",
              "      <th>Level</th>\n",
              "    </tr>\n",
              "  </thead>\n",
              "  <tbody>\n",
              "    <tr>\n",
              "      <th>0</th>\n",
              "      <td>Light Rain</td>\n",
              "      <td>3.0</td>\n",
              "    </tr>\n",
              "    <tr>\n",
              "      <th>1</th>\n",
              "      <td>Overcast</td>\n",
              "      <td>2.0</td>\n",
              "    </tr>\n",
              "    <tr>\n",
              "      <th>2</th>\n",
              "      <td>Mostly Cloudy</td>\n",
              "      <td>2.0</td>\n",
              "    </tr>\n",
              "    <tr>\n",
              "      <th>3</th>\n",
              "      <td>Rain</td>\n",
              "      <td>3.0</td>\n",
              "    </tr>\n",
              "    <tr>\n",
              "      <th>4</th>\n",
              "      <td>Light Snow</td>\n",
              "      <td>3.0</td>\n",
              "    </tr>\n",
              "    <tr>\n",
              "      <th>...</th>\n",
              "      <td>...</td>\n",
              "      <td>...</td>\n",
              "    </tr>\n",
              "    <tr>\n",
              "      <th>116</th>\n",
              "      <td>Thunderstorms and Snow</td>\n",
              "      <td>7.0</td>\n",
              "    </tr>\n",
              "    <tr>\n",
              "      <th>117</th>\n",
              "      <td>Smoke / Windy</td>\n",
              "      <td>6.0</td>\n",
              "    </tr>\n",
              "    <tr>\n",
              "      <th>118</th>\n",
              "      <td>Freezing Rain / Windy</td>\n",
              "      <td>6.0</td>\n",
              "    </tr>\n",
              "    <tr>\n",
              "      <th>119</th>\n",
              "      <td>Dust Whirls</td>\n",
              "      <td>6.0</td>\n",
              "    </tr>\n",
              "    <tr>\n",
              "      <th>120</th>\n",
              "      <td>Thunder and Hail / Windy</td>\n",
              "      <td>7.0</td>\n",
              "    </tr>\n",
              "  </tbody>\n",
              "</table>\n",
              "<p>120 rows × 2 columns</p>\n",
              "</div>"
            ],
            "text/plain": [
              "            Weather_Condition  Level\n",
              "0                  Light Rain    3.0\n",
              "1                    Overcast    2.0\n",
              "2               Mostly Cloudy    2.0\n",
              "3                        Rain    3.0\n",
              "4                  Light Snow    3.0\n",
              "..                        ...    ...\n",
              "116    Thunderstorms and Snow    7.0\n",
              "117             Smoke / Windy    6.0\n",
              "118     Freezing Rain / Windy    6.0\n",
              "119               Dust Whirls    6.0\n",
              "120  Thunder and Hail / Windy    7.0\n",
              "\n",
              "[120 rows x 2 columns]"
            ]
          },
          "metadata": {
            "tags": []
          },
          "execution_count": 28
        }
      ]
    },
    {
      "cell_type": "code",
      "metadata": {
        "id": "ZGcBTmuIVzkv",
        "colab_type": "code",
        "colab": {}
      },
      "source": [
        "DfUSACombinedDateTimeAccidentsandWeather1= pd.merge(DfUSACombinedDateTimeAccidents1,DFweatherratings, left_on='Weather_Condition',right_on='Weather_Condition', how='left')\n",
        "DfUSACombinedDateTimeAccidentsandWeather1.drop(columns=['Wind_Chill(F)', 'Wind_Direction','Wind_Speed(mph)','Airport_Code','Weather_Timestamp'])\n",
        "\n"
      ],
      "execution_count": 0,
      "outputs": []
    },
    {
      "cell_type": "markdown",
      "metadata": {
        "id": "Lre2HHDcO6ou",
        "colab_type": "text"
      },
      "source": [
        "Next I believe a good feature maybe to see if the incident occurs on a highway/StateRoute vs a named road. The idea being that perhaps a highway incident maybe more severe than a non-highway incident"
      ]
    },
    {
      "cell_type": "code",
      "metadata": {
        "id": "oqNyVVaYiFU-",
        "colab_type": "code",
        "colab": {}
      },
      "source": [
        "DfUSACombinedDateTimeAccidentsandWeather1['Highway/StateRoute'] = np.where(DfUSACombinedDateTimeAccidentsandWeather1['Street'].str.contains(\"I-|Highway|State\", case=False, na=False), 1,0)"
      ],
      "execution_count": 0,
      "outputs": []
    },
    {
      "cell_type": "markdown",
      "metadata": {
        "id": "prsqm57KPVPP",
        "colab_type": "text"
      },
      "source": [
        "Next lets graph the data to get a better idea of some of the features, primarily I'd like to see what affect Weather has on Severity."
      ]
    },
    {
      "cell_type": "code",
      "metadata": {
        "id": "TIn-6W0QlCHl",
        "colab_type": "code",
        "outputId": "760d6d49-9500-44e5-fe07-68e622f961e3",
        "colab": {
          "base_uri": "https://localhost:8080/",
          "height": 296
        }
      },
      "source": [
        "sns.barplot(x=DfUSACombinedDateTimeAccidentsandWeather1['Level'], y=DfUSACombinedDateTimeAccidentsandWeather1['Severity'],palette=\"rocket\")"
      ],
      "execution_count": 0,
      "outputs": [
        {
          "output_type": "execute_result",
          "data": {
            "text/plain": [
              "<matplotlib.axes._subplots.AxesSubplot at 0x7f7052691978>"
            ]
          },
          "metadata": {
            "tags": []
          },
          "execution_count": 31
        },
        {
          "output_type": "display_data",
          "data": {
            "image/png": "[encoded data removed]",
            "text/plain": [
              "<Figure size 432x288 with 1 Axes>"
            ]
          },
          "metadata": {
            "tags": []
          }
        }
      ]
    },
    {
      "cell_type": "markdown",
      "metadata": {
        "id": "ytMaMajKPkD1",
        "colab_type": "text"
      },
      "source": [
        "That's actually interesting to me, I feel pretty good about how I leveled the weather (especially in the 5-6 range). But it's interesting that there's a dip there. Thinking through this I suppose it may make since; not included in this dataset is if the individuals are distracted driving or driving unsafe for conditions prior to the incident. Here a 3-4 level is some combination of thunderstorms to light hail, which is unsafe conditions, but some individuals may see as just another day out on the road. where as 5-6 may contain any combination of freezing rain, extreme thunderstorms or extremely low visibility situations, where drivers are more likely to be driving defensively\n",
        "\n",
        "# That's interesting, now I believe I'm ready to model!\n",
        "Time to prep the dataset, first don't need ID anymore and I don't believe there's any na, but if there is I'll map to 0"
      ]
    },
    {
      "cell_type": "code",
      "metadata": {
        "id": "b-lUNU96pXyq",
        "colab_type": "code",
        "colab": {}
      },
      "source": [
        "DfUSACombinedDateTimeAccidentsandWeather1.drop(columns=['ID'])\n",
        "DfUSACombinedDateTimeAccidentsandWeather1.head(3)"
      ],
      "execution_count": 0,
      "outputs": []
    },
    {
      "cell_type": "code",
      "metadata": {
        "id": "QjsTCpjzvH64",
        "colab_type": "code",
        "colab": {}
      },
      "source": [
        "DfUSACombinedDateTimeAccidentsandWeather1=DfUSACombinedDateTimeAccidentsandWeather1.fillna(0)"
      ],
      "execution_count": 0,
      "outputs": []
    },
    {
      "cell_type": "markdown",
      "metadata": {
        "id": "QJfgY_9VQ4F-",
        "colab_type": "text"
      },
      "source": [
        "Next, time to change the classification features to a more useable form for my models"
      ]
    },
    {
      "cell_type": "code",
      "metadata": {
        "id": "NwmnREKuq7Az",
        "colab_type": "code",
        "colab": {}
      },
      "source": [
        "DfUSACombinedDateTimeAccidentsandWeather1['Side'] = DfUSACombinedDateTimeAccidentsandWeather1['Side'].map({'R':0,'L':1})\n",
        "DfUSACombinedDateTimeAccidentsandWeather1['Amenity'] = DfUSACombinedDateTimeAccidentsandWeather1['Amenity'].map({False:0,True:1})\n",
        "DfUSACombinedDateTimeAccidentsandWeather1['Bump'] = DfUSACombinedDateTimeAccidentsandWeather1['Bump'].map({False:0,True:1})\n",
        "DfUSACombinedDateTimeAccidentsandWeather1['Crossing'] = DfUSACombinedDateTimeAccidentsandWeather1['Crossing'].map({False:0,True:1})\n",
        "DfUSACombinedDateTimeAccidentsandWeather1['Give_Way'] = DfUSACombinedDateTimeAccidentsandWeather1['Give_Way'].map({False:0,True:1})\n",
        "DfUSACombinedDateTimeAccidentsandWeather1['No_Exit'] = DfUSACombinedDateTimeAccidentsandWeather1['No_Exit'].map({False:0,True:1})\n",
        "DfUSACombinedDateTimeAccidentsandWeather1['Railway'] = DfUSACombinedDateTimeAccidentsandWeather1['Railway'].map({False:0,True:1})\n",
        "DfUSACombinedDateTimeAccidentsandWeather1['Roundabout'] = DfUSACombinedDateTimeAccidentsandWeather1['Roundabout'].map({False:0,True:1})\n",
        "DfUSACombinedDateTimeAccidentsandWeather1['Station'] = DfUSACombinedDateTimeAccidentsandWeather1['Station'].map({False:0,True:1})\n",
        "DfUSACombinedDateTimeAccidentsandWeather1['Stop'] = DfUSACombinedDateTimeAccidentsandWeather1['Stop'].map({False:0,True:1})\n",
        "DfUSACombinedDateTimeAccidentsandWeather1['Traffic_Calming'] = DfUSACombinedDateTimeAccidentsandWeather1['Traffic_Calming'].map({False:0,True:1})\n",
        "DfUSACombinedDateTimeAccidentsandWeather1['Traffic_Signal'] = DfUSACombinedDateTimeAccidentsandWeather1['Traffic_Signal'].map({False:0,True:1})\n",
        "DfUSACombinedDateTimeAccidentsandWeather1['Turning_Loop'] = DfUSACombinedDateTimeAccidentsandWeather1['Turning_Loop'].map({False:0,True:1})\n",
        "DfUSACombinedDateTimeAccidentsandWeather1['Junction'] = DfUSACombinedDateTimeAccidentsandWeather1['Junction'].map({False:0,True:1})"
      ],
      "execution_count": 0,
      "outputs": []
    },
    {
      "cell_type": "code",
      "metadata": {
        "id": "zlC3XJYVxR5a",
        "colab_type": "code",
        "colab": {}
      },
      "source": [
        "DfUSACombinedDateTimeAccidentsandWeather1['Sunrise_Sunset'] = DfUSACombinedDateTimeAccidentsandWeather1['Sunrise_Sunset'].map({'Night':0,'Day':1})\n",
        "DfUSACombinedDateTimeAccidentsandWeather1['Civil_Twilight'] = DfUSACombinedDateTimeAccidentsandWeather1['Civil_Twilight'].map({'Night':0,'Day':1})\n",
        "DfUSACombinedDateTimeAccidentsandWeather1['Nautical_Twilight'] = DfUSACombinedDateTimeAccidentsandWeather1['Nautical_Twilight'].map({'Night':0,'Day':1})\n",
        "DfUSACombinedDateTimeAccidentsandWeather1['Astronomical_Twilight'] = DfUSACombinedDateTimeAccidentsandWeather1['Astronomical_Twilight'].map({'Night':0,'Day':1})\n",
        "DfUSACombinedDateTimeAccidentsandWeather1['Year'] = DfUSACombinedDateTimeAccidentsandWeather1['Year'].map({'2014':2014,'2015':2015, '2016':2016,'2017':2017,'2018':2018,'2019':2019,'2013':2013,'2012':2012,'2011':2011,'2010':2010})\n",
        "DfUSACombinedDateTimeAccidentsandWeather1['Month'] = DfUSACombinedDateTimeAccidentsandWeather1['Month'].map({'01':1,'02':2, '03':3,'04':4,'05':5,'06':6,'07':7,'08':8,'09':9,'10':10, '11':11,'12':12})\n"
      ],
      "execution_count": 0,
      "outputs": []
    },
    {
      "cell_type": "markdown",
      "metadata": {
        "id": "7SqYuSlvRFN5",
        "colab_type": "text"
      },
      "source": [
        "And now I'll convert the string variables to int variables"
      ]
    },
    {
      "cell_type": "code",
      "metadata": {
        "id": "tWYSIPg9A5sX",
        "colab_type": "code",
        "colab": {}
      },
      "source": [
        "DfUSACombinedDateTimeAccidentsandWeather1['Day']=DfUSACombinedDateTimeAccidentsandWeather1['Day'].astype(int)\n"
      ],
      "execution_count": 0,
      "outputs": []
    },
    {
      "cell_type": "code",
      "metadata": {
        "id": "Rs80xGNWBKCF",
        "colab_type": "code",
        "colab": {}
      },
      "source": [
        "DfUSACombinedDateTimeAccidentsandWeather1['Hours']=DfUSACombinedDateTimeAccidentsandWeather1['Hours'].astype(int)\n",
        "DfUSACombinedDateTimeAccidentsandWeather1['Minutes']=DfUSACombinedDateTimeAccidentsandWeather1['Minutes'].astype(int)\n",
        "DfUSACombinedDateTimeAccidentsandWeather1['Seconds']=DfUSACombinedDateTimeAccidentsandWeather1['Seconds'].astype(int)\n",
        "DfUSACombinedDateTimeAccidentsandWeather2= DfUSACombinedDateTimeAccidentsandWeather1.drop(columns=['Start_Time','End_Time','Description','Street','Timezone','City','County','Airport_Code','Weather_Timestamp','Wind_Direction','Weather_Condition'])\n"
      ],
      "execution_count": 0,
      "outputs": []
    },
    {
      "cell_type": "code",
      "metadata": {
        "id": "Ja67sydTCbyw",
        "colab_type": "code",
        "colab": {}
      },
      "source": [
        "DfUSACombinedDateTimeAccidentsandWeather2['Zipcode'] =DfUSACombinedDateTimeAccidentsandWeather2['Zipcode'].str[:5]"
      ],
      "execution_count": 0,
      "outputs": []
    },
    {
      "cell_type": "code",
      "metadata": {
        "id": "EGrivClbC7fe",
        "colab_type": "code",
        "colab": {}
      },
      "source": [
        "DfUSACombinedDateTimeAccidentsandWeather3= DfUSACombinedDateTimeAccidentsandWeather2.drop(DfUSACombinedDateTimeAccidentsandWeather2.columns[0],axis=1)\n",
        "DfUSACombinedDateTimeAccidentsandWeather3.head(2)"
      ],
      "execution_count": 0,
      "outputs": []
    },
    {
      "cell_type": "code",
      "metadata": {
        "id": "ETamvjo9EE_C",
        "colab_type": "code",
        "colab": {}
      },
      "source": [
        "DfUSACombinedDateTimeAccidentsandWeather4= DfUSACombinedDateTimeAccidentsandWeather3.drop(DfUSACombinedDateTimeAccidentsandWeather3.columns[5],axis=1)"
      ],
      "execution_count": 0,
      "outputs": []
    },
    {
      "cell_type": "markdown",
      "metadata": {
        "id": "VwU3sa5aRQdo",
        "colab_type": "text"
      },
      "source": [
        "Nice that looks better. Although state may have been nice to keep, it feels a bit redundant with the Zipcode and Lat/Long there aswell.\n",
        "\n",
        "That's alot of data changes that, even in python, took along time (also my complexity and memory is likely garbage up to here, but I'm not looking for long term usage with this model just a one time run-through... either way, probably good to save this as a checkpoint incase my ram crashes."
      ]
    },
    {
      "cell_type": "code",
      "metadata": {
        "id": "QQrAdcI7FkY2",
        "colab_type": "code",
        "colab": {}
      },
      "source": [
        "DfUSACombinedDateTimeAccidentsandWeather4.to_csv('Checkpoint1.csv')"
      ],
      "execution_count": 0,
      "outputs": []
    },
    {
      "cell_type": "code",
      "metadata": {
        "id": "SvfQF8K-GMwX",
        "colab_type": "code",
        "colab": {}
      },
      "source": [
        "DfUSAccidentsCleaned = pd.read_csv('Checkpoint1.csv')"
      ],
      "execution_count": 0,
      "outputs": []
    },
    {
      "cell_type": "markdown",
      "metadata": {
        "id": "DsgPLQOZR26X",
        "colab_type": "text"
      },
      "source": [
        "Now after a final look, I missed a few columns that I'd assumed were int already, no worries this is an easy fix"
      ]
    },
    {
      "cell_type": "code",
      "metadata": {
        "id": "2Pv86XsIGxrP",
        "colab_type": "code",
        "colab": {}
      },
      "source": [
        "DfUSAccidentsCleaned['Start_Lat'] = DfUSAccidentsCleaned['Start_Lat'].astype(int)\n",
        "DfUSAccidentsCleaned['Start_Lng'] = DfUSAccidentsCleaned['Start_Lng'].astype(int)\n",
        "DfUSAccidentsCleaned['Wind_Chill(F)'] = DfUSAccidentsCleaned['Wind_Chill(F)'].astype(int)\n",
        "DfUSAccidentsCleaned['Temperature(F)'] = DfUSAccidentsCleaned['Temperature(F)'].astype(int)\n",
        "DfUSAccidentsCleaned['Distance(mi)'] = DfUSAccidentsCleaned['Distance(mi)'].astype(int)"
      ],
      "execution_count": 0,
      "outputs": []
    },
    {
      "cell_type": "markdown",
      "metadata": {
        "id": "fX3Q-ehCSNfU",
        "colab_type": "text"
      },
      "source": [
        "There's like 3 null values left in the entire dataset, don't really feel like doing a comprehensive look at it, I'll just fill these as 0, with 3 Million records, this isn't likely to have a major impact on the data.\n",
        " \n",
        " \n",
        " \n",
        "Also, thinking through the model, I want to go ahead and limit some of the variability:\n",
        "\n",
        "Since I already have **Lat and Long** of the accident, I don't believe that **Zipcode** would give too much more value, \n",
        "\n",
        "**Distance(mi)** may actually contain some of the answer in it so it may not be useful, \n",
        "\n",
        "**Wind_Chill(F)** doesn't appear to be that useful either when I already have **Temperature(F), Humidity and Pressure** in the model. \n",
        "\n",
        "I don't believe that **Year** would be useful as I don't want the model to be affected from year to year but rather give general suggestions.\n",
        "\n",
        "To limit variability, I'll also eliminate **Minutes and Seconds** from the data as I wouldn't want the model to vary it's assessment every few seconds but rather give generalities about say commuting hours."
      ]
    },
    {
      "cell_type": "code",
      "metadata": {
        "id": "9ymc4s_oI8v1",
        "colab_type": "code",
        "colab": {}
      },
      "source": [
        "DfUSAccidentsCleaned=DfUSAccidentsCleaned.fillna(0)\n",
        "DfUSAccidentsCleaned=DfUSAccidentsCleaned.drop(columns=['Year','Minutes','Seconds','Wind_Chill(F)','Distance(mi)','Zipcode'])"
      ],
      "execution_count": 0,
      "outputs": []
    },
    {
      "cell_type": "markdown",
      "metadata": {
        "id": "ujSL71G7T0H1",
        "colab_type": "text"
      },
      "source": [
        "That looks pretty good, now let's split and begin looking at models, I'll probably stop if I get one that is over 95% accurate as I'm mainly looking for the important features out of the model."
      ]
    },
    {
      "cell_type": "code",
      "metadata": {
        "id": "9aaIxWX2MYpW",
        "colab_type": "code",
        "outputId": "1a8ced23-4e2e-4b1e-f866-6ddabb3f323c",
        "colab": {
          "base_uri": "https://localhost:8080/",
          "height": 51
        }
      },
      "source": [
        "y = DfUSAccidentsCleaned.Severity\n",
        "\n",
        "x_train, x_test, y_train, y_test = train_test_split(DfUSAccidentsCleaned, y, test_size=0.2)\n",
        "x_train=x_train.drop(columns=['Severity'],axis=1)\n",
        "x_train=x_train.drop(x_train.columns[0], axis=1)\n",
        "x_test=x_test.drop(columns=['Severity'],axis=1)\n",
        "x_test=x_test.drop(x_test.columns[0], axis=1)\n",
        "print(x_train.shape, y_train.shape)\n",
        "print(x_test.shape, y_test.shape)"
      ],
      "execution_count": 0,
      "outputs": [
        {
          "output_type": "stream",
          "text": [
            "(2379468, 31) (2379468,)\n",
            "(594867, 31) (594867,)\n"
          ],
          "name": "stdout"
        }
      ]
    },
    {
      "cell_type": "code",
      "metadata": {
        "id": "IW1x2a9VJlQ6",
        "colab_type": "code",
        "outputId": "37f11266-995f-4094-f892-8e0b99980539",
        "colab": {
          "base_uri": "https://localhost:8080/",
          "height": 162
        }
      },
      "source": [
        "x_test.head(3)"
      ],
      "execution_count": 0,
      "outputs": [
        {
          "output_type": "execute_result",
          "data": {
            "text/html": [
              "<div>\n",
              "<style scoped>\n",
              "    .dataframe tbody tr th:only-of-type {\n",
              "        vertical-align: middle;\n",
              "    }\n",
              "\n",
              "    .dataframe tbody tr th {\n",
              "        vertical-align: top;\n",
              "    }\n",
              "\n",
              "    .dataframe thead th {\n",
              "        text-align: right;\n",
              "    }\n",
              "</style>\n",
              "<table border=\"1\" class=\"dataframe\">\n",
              "  <thead>\n",
              "    <tr style=\"text-align: right;\">\n",
              "      <th></th>\n",
              "      <th>Start_Lat</th>\n",
              "      <th>Start_Lng</th>\n",
              "      <th>Side</th>\n",
              "      <th>Temperature(F)</th>\n",
              "      <th>Humidity(%)</th>\n",
              "      <th>Pressure(in)</th>\n",
              "      <th>Visibility(mi)</th>\n",
              "      <th>Wind_Speed(mph)</th>\n",
              "      <th>Precipitation(in)</th>\n",
              "      <th>Amenity</th>\n",
              "      <th>Bump</th>\n",
              "      <th>Crossing</th>\n",
              "      <th>Give_Way</th>\n",
              "      <th>Junction</th>\n",
              "      <th>No_Exit</th>\n",
              "      <th>Railway</th>\n",
              "      <th>Roundabout</th>\n",
              "      <th>Station</th>\n",
              "      <th>Stop</th>\n",
              "      <th>Traffic_Calming</th>\n",
              "      <th>Traffic_Signal</th>\n",
              "      <th>Turning_Loop</th>\n",
              "      <th>Sunrise_Sunset</th>\n",
              "      <th>Civil_Twilight</th>\n",
              "      <th>Nautical_Twilight</th>\n",
              "      <th>Astronomical_Twilight</th>\n",
              "      <th>Month</th>\n",
              "      <th>Day</th>\n",
              "      <th>Hours</th>\n",
              "      <th>Level</th>\n",
              "      <th>Highway/StateRoute</th>\n",
              "    </tr>\n",
              "  </thead>\n",
              "  <tbody>\n",
              "    <tr>\n",
              "      <th>1386936</th>\n",
              "      <td>37</td>\n",
              "      <td>-79</td>\n",
              "      <td>0.0</td>\n",
              "      <td>59</td>\n",
              "      <td>49.0</td>\n",
              "      <td>30.17</td>\n",
              "      <td>10.0</td>\n",
              "      <td>5.8</td>\n",
              "      <td>0.0</td>\n",
              "      <td>0</td>\n",
              "      <td>0</td>\n",
              "      <td>0</td>\n",
              "      <td>0</td>\n",
              "      <td>0</td>\n",
              "      <td>0</td>\n",
              "      <td>0</td>\n",
              "      <td>0</td>\n",
              "      <td>0</td>\n",
              "      <td>0</td>\n",
              "      <td>0</td>\n",
              "      <td>0</td>\n",
              "      <td>0</td>\n",
              "      <td>0.0</td>\n",
              "      <td>1.0</td>\n",
              "      <td>1.0</td>\n",
              "      <td>1.0</td>\n",
              "      <td>10</td>\n",
              "      <td>30</td>\n",
              "      <td>18</td>\n",
              "      <td>1.0</td>\n",
              "      <td>1</td>\n",
              "    </tr>\n",
              "    <tr>\n",
              "      <th>2973712</th>\n",
              "      <td>43</td>\n",
              "      <td>-123</td>\n",
              "      <td>0.0</td>\n",
              "      <td>58</td>\n",
              "      <td>90.0</td>\n",
              "      <td>29.67</td>\n",
              "      <td>10.0</td>\n",
              "      <td>14.0</td>\n",
              "      <td>0.0</td>\n",
              "      <td>0</td>\n",
              "      <td>0</td>\n",
              "      <td>0</td>\n",
              "      <td>0</td>\n",
              "      <td>0</td>\n",
              "      <td>0</td>\n",
              "      <td>0</td>\n",
              "      <td>0</td>\n",
              "      <td>0</td>\n",
              "      <td>0</td>\n",
              "      <td>0</td>\n",
              "      <td>0</td>\n",
              "      <td>0</td>\n",
              "      <td>0.0</td>\n",
              "      <td>0.0</td>\n",
              "      <td>0.0</td>\n",
              "      <td>1.0</td>\n",
              "      <td>8</td>\n",
              "      <td>22</td>\n",
              "      <td>4</td>\n",
              "      <td>2.0</td>\n",
              "      <td>1</td>\n",
              "    </tr>\n",
              "    <tr>\n",
              "      <th>552130</th>\n",
              "      <td>37</td>\n",
              "      <td>-77</td>\n",
              "      <td>0.0</td>\n",
              "      <td>47</td>\n",
              "      <td>71.0</td>\n",
              "      <td>29.86</td>\n",
              "      <td>10.0</td>\n",
              "      <td>7.0</td>\n",
              "      <td>0.0</td>\n",
              "      <td>0</td>\n",
              "      <td>0</td>\n",
              "      <td>0</td>\n",
              "      <td>0</td>\n",
              "      <td>0</td>\n",
              "      <td>0</td>\n",
              "      <td>0</td>\n",
              "      <td>0</td>\n",
              "      <td>0</td>\n",
              "      <td>0</td>\n",
              "      <td>0</td>\n",
              "      <td>0</td>\n",
              "      <td>0</td>\n",
              "      <td>1.0</td>\n",
              "      <td>1.0</td>\n",
              "      <td>1.0</td>\n",
              "      <td>1.0</td>\n",
              "      <td>12</td>\n",
              "      <td>16</td>\n",
              "      <td>15</td>\n",
              "      <td>2.0</td>\n",
              "      <td>0</td>\n",
              "    </tr>\n",
              "  </tbody>\n",
              "</table>\n",
              "</div>"
            ],
            "text/plain": [
              "         Start_Lat  Start_Lng  Side  ...  Hours  Level  Highway/StateRoute\n",
              "1386936         37        -79   0.0  ...     18    1.0                   1\n",
              "2973712         43       -123   0.0  ...      4    2.0                   1\n",
              "552130          37        -77   0.0  ...     15    2.0                   0\n",
              "\n",
              "[3 rows x 31 columns]"
            ]
          },
          "metadata": {
            "tags": []
          },
          "execution_count": 7
        }
      ]
    },
    {
      "cell_type": "code",
      "metadata": {
        "id": "KOJ89PllJ_x5",
        "colab_type": "code",
        "outputId": "f99de4a8-c274-4142-a0ef-ba6a90a9f62c",
        "colab": {
          "base_uri": "https://localhost:8080/",
          "height": 162
        }
      },
      "source": [
        "x_train.head(3)"
      ],
      "execution_count": 0,
      "outputs": [
        {
          "output_type": "execute_result",
          "data": {
            "text/html": [
              "<div>\n",
              "<style scoped>\n",
              "    .dataframe tbody tr th:only-of-type {\n",
              "        vertical-align: middle;\n",
              "    }\n",
              "\n",
              "    .dataframe tbody tr th {\n",
              "        vertical-align: top;\n",
              "    }\n",
              "\n",
              "    .dataframe thead th {\n",
              "        text-align: right;\n",
              "    }\n",
              "</style>\n",
              "<table border=\"1\" class=\"dataframe\">\n",
              "  <thead>\n",
              "    <tr style=\"text-align: right;\">\n",
              "      <th></th>\n",
              "      <th>Start_Lat</th>\n",
              "      <th>Start_Lng</th>\n",
              "      <th>Side</th>\n",
              "      <th>Temperature(F)</th>\n",
              "      <th>Humidity(%)</th>\n",
              "      <th>Pressure(in)</th>\n",
              "      <th>Visibility(mi)</th>\n",
              "      <th>Wind_Speed(mph)</th>\n",
              "      <th>Precipitation(in)</th>\n",
              "      <th>Amenity</th>\n",
              "      <th>Bump</th>\n",
              "      <th>Crossing</th>\n",
              "      <th>Give_Way</th>\n",
              "      <th>Junction</th>\n",
              "      <th>No_Exit</th>\n",
              "      <th>Railway</th>\n",
              "      <th>Roundabout</th>\n",
              "      <th>Station</th>\n",
              "      <th>Stop</th>\n",
              "      <th>Traffic_Calming</th>\n",
              "      <th>Traffic_Signal</th>\n",
              "      <th>Turning_Loop</th>\n",
              "      <th>Sunrise_Sunset</th>\n",
              "      <th>Civil_Twilight</th>\n",
              "      <th>Nautical_Twilight</th>\n",
              "      <th>Astronomical_Twilight</th>\n",
              "      <th>Month</th>\n",
              "      <th>Day</th>\n",
              "      <th>Hours</th>\n",
              "      <th>Level</th>\n",
              "      <th>Highway/StateRoute</th>\n",
              "    </tr>\n",
              "  </thead>\n",
              "  <tbody>\n",
              "    <tr>\n",
              "      <th>2330599</th>\n",
              "      <td>40</td>\n",
              "      <td>-73</td>\n",
              "      <td>0.0</td>\n",
              "      <td>75</td>\n",
              "      <td>84.0</td>\n",
              "      <td>29.95</td>\n",
              "      <td>10.0</td>\n",
              "      <td>4.6</td>\n",
              "      <td>0.0</td>\n",
              "      <td>0</td>\n",
              "      <td>0</td>\n",
              "      <td>0</td>\n",
              "      <td>0</td>\n",
              "      <td>1</td>\n",
              "      <td>0</td>\n",
              "      <td>0</td>\n",
              "      <td>0</td>\n",
              "      <td>0</td>\n",
              "      <td>0</td>\n",
              "      <td>0</td>\n",
              "      <td>0</td>\n",
              "      <td>0</td>\n",
              "      <td>0.0</td>\n",
              "      <td>0.0</td>\n",
              "      <td>0.0</td>\n",
              "      <td>0.0</td>\n",
              "      <td>9</td>\n",
              "      <td>7</td>\n",
              "      <td>23</td>\n",
              "      <td>2.0</td>\n",
              "      <td>0</td>\n",
              "    </tr>\n",
              "    <tr>\n",
              "      <th>2114843</th>\n",
              "      <td>30</td>\n",
              "      <td>-92</td>\n",
              "      <td>0.0</td>\n",
              "      <td>73</td>\n",
              "      <td>100.0</td>\n",
              "      <td>29.98</td>\n",
              "      <td>3.0</td>\n",
              "      <td>0.0</td>\n",
              "      <td>0.0</td>\n",
              "      <td>0</td>\n",
              "      <td>0</td>\n",
              "      <td>0</td>\n",
              "      <td>0</td>\n",
              "      <td>0</td>\n",
              "      <td>0</td>\n",
              "      <td>0</td>\n",
              "      <td>0</td>\n",
              "      <td>0</td>\n",
              "      <td>0</td>\n",
              "      <td>0</td>\n",
              "      <td>0</td>\n",
              "      <td>0</td>\n",
              "      <td>1.0</td>\n",
              "      <td>1.0</td>\n",
              "      <td>1.0</td>\n",
              "      <td>1.0</td>\n",
              "      <td>9</td>\n",
              "      <td>1</td>\n",
              "      <td>7</td>\n",
              "      <td>2.0</td>\n",
              "      <td>0</td>\n",
              "    </tr>\n",
              "    <tr>\n",
              "      <th>2217892</th>\n",
              "      <td>30</td>\n",
              "      <td>-88</td>\n",
              "      <td>0.0</td>\n",
              "      <td>93</td>\n",
              "      <td>63.0</td>\n",
              "      <td>30.03</td>\n",
              "      <td>10.0</td>\n",
              "      <td>9.2</td>\n",
              "      <td>0.0</td>\n",
              "      <td>0</td>\n",
              "      <td>0</td>\n",
              "      <td>0</td>\n",
              "      <td>0</td>\n",
              "      <td>0</td>\n",
              "      <td>0</td>\n",
              "      <td>0</td>\n",
              "      <td>0</td>\n",
              "      <td>0</td>\n",
              "      <td>0</td>\n",
              "      <td>0</td>\n",
              "      <td>0</td>\n",
              "      <td>0</td>\n",
              "      <td>1.0</td>\n",
              "      <td>1.0</td>\n",
              "      <td>1.0</td>\n",
              "      <td>1.0</td>\n",
              "      <td>8</td>\n",
              "      <td>17</td>\n",
              "      <td>15</td>\n",
              "      <td>2.0</td>\n",
              "      <td>1</td>\n",
              "    </tr>\n",
              "  </tbody>\n",
              "</table>\n",
              "</div>"
            ],
            "text/plain": [
              "         Start_Lat  Start_Lng  Side  ...  Hours  Level  Highway/StateRoute\n",
              "2330599         40        -73   0.0  ...     23    2.0                   0\n",
              "2114843         30        -92   0.0  ...      7    2.0                   0\n",
              "2217892         30        -88   0.0  ...     15    2.0                   1\n",
              "\n",
              "[3 rows x 31 columns]"
            ]
          },
          "metadata": {
            "tags": []
          },
          "execution_count": 8
        }
      ]
    },
    {
      "cell_type": "markdown",
      "metadata": {
        "id": "QaD-YSNpUtVG",
        "colab_type": "text"
      },
      "source": [
        "I like to go from simplest and easiest to explain algorithm to more complex, I'll start with Logistic Regression, then go to Decision Tree, then Naive Bayes,then KNN, then I'll go to more complex such as Support Vector Machine, Random Forests and so on if none of the preceding algorithms give a good accuracy score."
      ]
    },
    {
      "cell_type": "code",
      "metadata": {
        "id": "kKlFtJH5OhVa",
        "colab_type": "code",
        "outputId": "d8265424-a363-4a82-bb64-d5dacbaf3140",
        "colab": {
          "base_uri": "https://localhost:8080/",
          "height": 170
        }
      },
      "source": [
        "logreg = LogisticRegression()\n",
        "logreg.fit(x_train, y_train)\n",
        "Y_pred = logreg.predict(x_test)\n",
        "acc_log = logreg.score(x_train, y_train) * 100\n",
        "acc_log"
      ],
      "execution_count": 0,
      "outputs": [
        {
          "output_type": "stream",
          "text": [
            "/usr/local/lib/python3.6/dist-packages/sklearn/linear_model/_logistic.py:940: ConvergenceWarning: lbfgs failed to converge (status=1):\n",
            "STOP: TOTAL NO. of ITERATIONS REACHED LIMIT.\n",
            "\n",
            "Increase the number of iterations (max_iter) or scale the data as shown in:\n",
            "    https://scikit-learn.org/stable/modules/preprocessing.html\n",
            "Please also refer to the documentation for alternative solver options:\n",
            "    https://scikit-learn.org/stable/modules/linear_model.html#logistic-regression\n",
            "  extra_warning_msg=_LOGISTIC_SOLVER_CONVERGENCE_MSG)\n"
          ],
          "name": "stderr"
        },
        {
          "output_type": "execute_result",
          "data": {
            "text/plain": [
              "71.5011506773783"
            ]
          },
          "metadata": {
            "tags": []
          },
          "execution_count": 9
        }
      ]
    },
    {
      "cell_type": "markdown",
      "metadata": {
        "id": "1rIMeNEzVVgf",
        "colab_type": "text"
      },
      "source": [
        "71% is not terrible, but as seen, this data set is simply to large for this classifier, I'll revisit this if the next algorithms don't pan out."
      ]
    },
    {
      "cell_type": "code",
      "metadata": {
        "id": "Kz4jo87KRfQb",
        "colab_type": "code",
        "outputId": "e32950e9-e7ea-4bb0-b8d6-6b6ccfca3547",
        "colab": {
          "base_uri": "https://localhost:8080/",
          "height": 34
        }
      },
      "source": [
        "decision_tree = DecisionTreeClassifier()\n",
        "decision_tree.fit(x_train,y_train)\n",
        "Y_pred = decision_tree.predict(x_test)\n",
        "acc_decision_tree = decision_tree.score(x_train,y_train)\n",
        "acc_decision_tree"
      ],
      "execution_count": 0,
      "outputs": [
        {
          "output_type": "execute_result",
          "data": {
            "text/plain": [
              "0.9844288723361693"
            ]
          },
          "metadata": {
            "tags": []
          },
          "execution_count": 10
        }
      ]
    },
    {
      "cell_type": "markdown",
      "metadata": {
        "id": "9JkXXCWQV8T2",
        "colab_type": "text"
      },
      "source": [
        "Wow, nice that was quicker than I'd anticipated, although to be fair this data set absolutely lends itself to to a decision tree algorithm. I'm happy with that accuracy score. now time to pull out the feature importance!"
      ]
    },
    {
      "cell_type": "code",
      "metadata": {
        "id": "zFy3Ww-TMcqn",
        "colab_type": "code",
        "outputId": "9d17b864-612a-4758-fb47-d9e6ffeedf43",
        "colab": {
          "base_uri": "https://localhost:8080/",
          "height": 153
        }
      },
      "source": [
        "decision_tree.feature_importances_"
      ],
      "execution_count": 0,
      "outputs": [
        {
          "output_type": "execute_result",
          "data": {
            "text/plain": [
              "array([5.04894345e-02, 7.90868001e-02, 3.26380360e-02, 9.54730092e-02,\n",
              "       1.03426358e-01, 1.21952692e-01, 2.30889859e-02, 7.64495570e-02,\n",
              "       9.33584319e-03, 1.38624735e-03, 1.07861533e-05, 3.94678628e-03,\n",
              "       6.26753832e-04, 1.09096299e-02, 2.66417036e-04, 1.09035358e-03,\n",
              "       6.76321326e-06, 2.47799607e-03, 2.09943963e-03, 5.87590809e-05,\n",
              "       1.99792726e-02, 0.00000000e+00, 6.15021034e-03, 4.90962238e-03,\n",
              "       4.30105420e-03, 4.15416379e-03, 4.78766703e-02, 9.18349895e-02,\n",
              "       8.03324703e-02, 2.06113199e-02, 1.05029579e-01])"
            ]
          },
          "metadata": {
            "tags": []
          },
          "execution_count": 16
        }
      ]
    },
    {
      "cell_type": "markdown",
      "metadata": {
        "id": "UQpEIxkkWat_",
        "colab_type": "text"
      },
      "source": [
        "Interesting, as suspected, Highway/StateRoute plays a big role, so does location and weather. If I were to deploy this model I would utilize it as an app or in a logistics algorithm for a trucking company to show if there were an accident at this location or this time it is likely to have be ___ severe"
      ]
    },
    {
      "cell_type": "markdown",
      "metadata": {
        "id": "2OmtKQTeWLeW",
        "colab_type": "text"
      },
      "source": [
        "![image.png](data:image/png;base64,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)"
      ]
    }
  ]
}